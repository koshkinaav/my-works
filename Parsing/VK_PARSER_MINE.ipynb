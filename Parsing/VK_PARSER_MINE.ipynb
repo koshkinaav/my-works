{
 "cells": [
  {
   "cell_type": "markdown",
   "id": "e374d086",
   "metadata": {},
   "source": [
    "# Реализация простого VK-parsera на питон, который построит зависимость количества подписчиков от времени, начиная с момента работы программы"
   ]
  },
  {
   "cell_type": "code",
   "execution_count": 8,
   "id": "a465eeb4",
   "metadata": {},
   "outputs": [],
   "source": [
    "import requests\n",
    "import time\n",
    "import tqdm\n",
    "import matplotlib.pyplot as plt\n",
    "token = '...'\n",
    "version = '5.103' \n",
    "group_id = '-278573'\n",
    "    \n",
    "def vk_download(method, parameters):\n",
    "    \n",
    "    url = 'https://api.vk.com/method/' + method + '?' + parameters + '&access_token=' + token + '&v=' + version\n",
    "    response = requests.get(url) \n",
    "    infa = response.json()\n",
    "    return infa"
   ]
  },
  {
   "cell_type": "code",
   "execution_count": 7,
   "id": "52830df9",
   "metadata": {},
   "outputs": [
    {
     "name": "stderr",
     "output_type": "stream",
     "text": [
      "<ipython-input-7-82923a0edeaf>:4: TqdmDeprecationWarning: This function will be removed in tqdm==5.0.0\n",
      "Please use `tqdm.notebook.tqdm` instead of `tqdm.tqdm_notebook`\n",
      "  for i in tqdm_notebook(range(0, 100, 1)):\n"
     ]
    },
    {
     "data": {
      "application/vnd.jupyter.widget-view+json": {
       "model_id": "f64150b71e4b4c51929e38af7960497f",
       "version_major": 2,
       "version_minor": 0
      },
      "text/plain": [
       "  0%|          | 0/100 [00:00<?, ?it/s]"
      ]
     },
     "metadata": {},
     "output_type": "display_data"
    }
   ],
   "source": [
    "count = []\n",
    "Time = []\n",
    "from tqdm import *\n",
    "for i in tqdm_notebook(range(0, 100, 1)):\n",
    "    Time.append(0.3 * i)\n",
    "    time.sleep(0.3)\n",
    "    count.append(vk_download('groups.getMembers','group_id=278573&count=0')['response']['count'])"
   ]
  },
  {
   "cell_type": "code",
   "execution_count": 9,
   "id": "e1709e0c",
   "metadata": {},
   "outputs": [
    {
     "data": {
      "text/plain": [
       "[<matplotlib.lines.Line2D at 0x7f90e7959be0>]"
      ]
     },
     "execution_count": 9,
     "metadata": {},
     "output_type": "execute_result"
    },
    {
     "data": {
      "image/png": "[encoded data removed]",
      "text/plain": [
       "<Figure size 432x288 with 1 Axes>"
      ]
     },
     "metadata": {
      "needs_background": "light"
     },
     "output_type": "display_data"
    }
   ],
   "source": [
    "plt.plot(Time, count)"
   ]
  }
 ],
 "metadata": {
  "kernelspec": {
   "display_name": "Python 3",
   "language": "python",
   "name": "python3"
  },
  "language_info": {
   "codemirror_mode": {
    "name": "ipython",
    "version": 3
   },
   "file_extension": ".py",
   "mimetype": "text/x-python",
   "name": "python",
   "nbconvert_exporter": "python",
   "pygments_lexer": "ipython3",
   "version": "3.8.8"
  }
 },
 "nbformat": 4,
 "nbformat_minor": 5
}
